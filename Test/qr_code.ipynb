{
 "cells": [
  {
   "cell_type": "code",
   "execution_count": 1,
   "metadata": {},
   "outputs": [],
   "source": [
    "from qr_code import QrCode"
   ]
  },
  {
   "cell_type": "code",
   "execution_count": null,
   "metadata": {},
   "outputs": [],
   "source": [
    "EQUIVALENCE = {L:0.07, M:0.15, Q:0.25, H:0.30} # percentage equivalence\n",
    "\n",
    "\n",
    "    @staticmethod\n",
    "    def size_in_bytes(string: str, data_type: bytes = TYPE_3) -> int:\n",
    "        global TYPE_1, TYPE_2, TYPE_3, TYPE_4\n",
    "\n",
    "        char_length: int = len(string)\n",
    "        correction_factor: int = 1 / (1 - EQUIVALENCE[data_type])\n",
    "\n",
    "        match str(data_type):\n",
    "            case str(TYPE_1):\n",
    "                print(1)\n",
    "                bits_length = 10 * (char_length // 3) + (4 if char_length % 3 == 1 else 7 if char_length % 3 == 2 else 0)\n",
    "            case str(TYPE_2):\n",
    "                print(2)\n",
    "                bits_length = 11 * (char_length // 2) + 6 * (char_length % 2)\n",
    "            case str(TYPE_3):\n",
    "                print(3)\n",
    "                bits_length = len(string.encode(\"utf-8\")) * 8\n",
    "            case str(TYPE_4):\n",
    "                print(4)\n",
    "                bits_length = char_length * 13\n",
    "        \n",
    "        bits_length *= correction_factor\n",
    "        return round((bits_length + 7) // 8)"
   ]
  }
 ],
 "metadata": {
  "kernelspec": {
   "display_name": "Python 3",
   "language": "python",
   "name": "python3"
  },
  "language_info": {
   "codemirror_mode": {
    "name": "ipython",
    "version": 3
   },
   "file_extension": ".py",
   "mimetype": "text/x-python",
   "name": "python",
   "nbconvert_exporter": "python",
   "pygments_lexer": "ipython3",
   "version": "3.12.4"
  }
 },
 "nbformat": 4,
 "nbformat_minor": 2
}
