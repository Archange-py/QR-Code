{
 "cells": [
  {
   "cell_type": "code",
   "execution_count": 4,
   "metadata": {},
   "outputs": [],
   "source": [
    "import matplotlib.pyplot as plt\n",
    "import numpy as np"
   ]
  },
  {
   "cell_type": "code",
   "execution_count": 17,
   "metadata": {},
   "outputs": [],
   "source": [
    "def initialize_grid(version=1):\n",
    "    size = 21 + (version - 1) * 4  # La taille de la matrice pour la version choisie\n",
    "    grid = [[0] * size for _ in range(size)]\n",
    "    \n",
    "    # Ajout des motifs de positionnement aux coins\n",
    "    def add_position_pattern(x, y):\n",
    "        for i in range(-1, 8):\n",
    "            for j in range(-1, 8):\n",
    "                if (0 <= x + i < size) and (0 <= y + j < size):\n",
    "                    if (0 <= i <= 6 and (j in [0, 6])) or (0 <= j <= 6 and (i in [0, 6])) or (2 <= i <= 4 and 2 <= j <= 4):\n",
    "                        grid[y + j][x + i] = 1  # Module noir\n",
    "                    else:\n",
    "                        grid[y + j][x + i] = 0  # Module blanc\n",
    "    \n",
    "    # Place les motifs aux trois coins\n",
    "    add_position_pattern(0, 0)\n",
    "    add_position_pattern(size - 7, 0)\n",
    "    add_position_pattern(0, size - 7)\n",
    "    \n",
    "    # Ajouter les lignes de timing\n",
    "    for i in range(8, size - 8):\n",
    "        grid[6][i] = grid[i][6] = i % 2  # Alternance de noir et blanc\n",
    "    \n",
    "    return np.array(grid)"
   ]
  },
  {
   "cell_type": "code",
   "execution_count": 19,
   "metadata": {},
   "outputs": [
    {
     "name": "stdout",
     "output_type": "stream",
     "text": [
      "[[1 1 1 ... 1 1 1]\n",
      " [1 0 0 ... 0 0 1]\n",
      " [1 0 1 ... 1 0 1]\n",
      " ...\n",
      " [1 0 1 ... 0 0 0]\n",
      " [1 0 0 ... 0 0 0]\n",
      " [1 1 1 ... 0 0 0]]\n"
     ]
    },
    {
     "data": {
      "text/plain": [
       "<matplotlib.image.AxesImage at 0x2fbcf2003b0>"
      ]
     },
     "execution_count": 19,
     "metadata": {},
     "output_type": "execute_result"
    },
    {
     "data": {
      "image/png": "[encoded data removed]",
      "text/plain": [
       "<Figure size 640x480 with 1 Axes>"
      ]
     },
     "metadata": {},
     "output_type": "display_data"
    }
   ],
   "source": [
    "img = initialize_grid(5)\n",
    "print(img)\n",
    "plt.imshow(img)"
   ]
  }
 ],
 "metadata": {
  "kernelspec": {
   "display_name": "Python 3",
   "language": "python",
   "name": "python3"
  },
  "language_info": {
   "codemirror_mode": {
    "name": "ipython",
    "version": 3
   },
   "file_extension": ".py",
   "mimetype": "text/x-python",
   "name": "python",
   "nbconvert_exporter": "python",
   "pygments_lexer": "ipython3",
   "version": "3.12.4"
  }
 },
 "nbformat": 4,
 "nbformat_minor": 2
}
