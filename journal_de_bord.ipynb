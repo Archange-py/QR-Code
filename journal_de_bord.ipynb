{
 "cells": [
  {
   "cell_type": "markdown",
   "metadata": {},
   "source": [
    "# Journal de Bord"
   ]
  },
  {
   "cell_type": "markdown",
   "metadata": {},
   "source": [
    "## Heure 1\n",
    "\n",
    "- Commencer à réfléchir aux supports du projets: Framapad, Dépôt GiHub, sur Visual Studio Code/ Visual Studio\n",
    "- Regarder comment fonctionne un QR-Code -> la base"
   ]
  },
  {
   "cell_type": "markdown",
   "metadata": {},
   "source": [
    "## Heure 2\n",
    "\n",
    "- Essayer de mettre en place la liaison GitHub avec le poste local\n",
    "- Réfléchir si Google OneDrive est une possibilité\n",
    "- Attribution des rôles pour Chiffrer le QR-Code:\n",
    "    * Mattéo -> Recherches sur les motifs: fonction qui prend en entré un tableau à 2 dimensions et qui applique un masque parmi les 8 possibles\n",
    "    * Davoud & Amazir -> Code de Reed-Solomon: fonction qui permet de récupérer la chaine de charactère en entrée et le niveau de correction d'erreur, et donne en sortie le code en binaire avec la correction d'erreur (I used to hate QR codes. But they're actually genius - YouTube, 18.25min)\n",
    "    * Vincent -> fais une première version total: objectif final comparer avec le autre puis l'encapsuler en classe"
   ]
  },
  {
   "cell_type": "markdown",
   "metadata": {},
   "source": [
    "## Heure 3\n",
    "\n",
    "- Abandon de GitHub\n",
    "- Chacun avance de son côté:\n",
    "    * Fichier de constante\n",
    "- programme \"chaine de caractere --> binaire en cours par amazir et davoud"
   ]
  },
  {
   "cell_type": "markdown",
   "metadata": {},
   "source": [
    "## Heure 4\n",
    "\n",
    "- Mattéo -> recherches sur l'application de masques\n",
    "- Vincent -> construction du motif fixe\n",
    "- Davoud & Amazir -> nouvelles recherches Code de Reed-Solomon"
   ]
  },
  {
   "cell_type": "markdown",
   "metadata": {},
   "source": [
    "## Heure 5\n",
    "\n",
    "Mattéo -> amélioration du processus d'application des masques + recherches sur code Reed-Solomon et aide sur code format d'information\n",
    "Amazir -> essaie avec turtle puis abandon\n",
    "Vincent -> programmation du format d'information\n",
    "Davoud -> programmation code Reed-Solomon à implémenter"
   ]
  },
  {
   "cell_type": "markdown",
   "metadata": {},
   "source": [
    "## Heure 6"
   ]
  },
  {
   "cell_type": "markdown",
   "metadata": {},
   "source": [
    "Abandon pour le reste de l'équipe de la réalisation jugée trop complexe au niveau mathématique des codes correcteurs d'erreurs Reed-Solomon et donc de la réalisation directe du code QR: utilisation de librairie tierce.\n",
    "\n",
    "Mattéo -> Générateur de Qr-code simple\n",
    "Amazir & Davoud -> utilisation d'open Cv2\n",
    "Vincent -> Continue avec la réalisation d'un qr-code de manière formelle en POO vers fonctionnel"
   ]
  },
  {
   "cell_type": "markdown",
   "metadata": {},
   "source": [
    "## Heure 7\n",
    "\n",
    "Mattéo ->Polissage de la fonction de génération du qr code\n",
    "Amazir & Davoud -> Finalisation de la fonction de reconaissance de code QR\n",
    "Vincent -> Documentation des fonctions"
   ]
  },
  {
   "cell_type": "markdown",
   "metadata": {},
   "source": [
    "## Heure 8\n",
    "\n",
    "Réunion finale du projet, envoie dans une archive au format zip."
   ]
  },
  {
   "cell_type": "markdown",
   "metadata": {},
   "source": [
    "# Cahier des charges"
   ]
  },
  {
   "cell_type": "markdown",
   "metadata": {},
   "source": [
    "## I - Les objectifs"
   ]
  },
  {
   "cell_type": "markdown",
   "metadata": {},
   "source": [
    "Générer un QR Code de version 1 pour une url relativement courte. Création au début des fichiers:  \n",
    "- un fichier de constantes\n",
    "- un fichier principal contenant les deux fonctions principales\n",
    "- un fichier README.md pour informer aux utilisateurcomment faire bon usage des différentes fonctions,contenant le cahier des charges et le reste desinformations autour du projet\n",
    "- un fichier requirements.txt pour installerdirectement toute les librairies à utiliser d'un coupsavec :\n",
    "    pip install -r requirements.txt\n",
    "- un Jupiter Notebook contenant les divers exemples àexécuter directement dans des cellules de codes"
   ]
  },
  {
   "cell_type": "markdown",
   "metadata": {},
   "source": [
    "## II - Les imports"
   ]
  },
  {
   "cell_type": "markdown",
   "metadata": {},
   "source": [
    "-> faire un fichier pour les installer tous d'un coups:    requirements.txt  \n",
    "PIL à installer ici: pip install pillow  \n",
    "Qr_code: pip install qrcode  \n",
    "Open CV2: pip install opencv-python  "
   ]
  },
  {
   "cell_type": "markdown",
   "metadata": {},
   "source": [
    "## III - Récapitulatif des besoins"
   ]
  },
  {
   "cell_type": "markdown",
   "metadata": {},
   "source": [
    "Une fonction permettant de générer un qr_code au format .png avec divers arguments:  \n",
    "- Le lien, le répertoire complet contenant le nom de l'image au format .png, la taille et la couleur des modules, la couleur d'arrière plan (blanche par défaut),\n",
    "- le niveau de correction (L, M, Q, H) en string, le type de donnée en string, le type de masque, et un argument pour forcer la version\n",
    "- Ne retourne rien mais crée une image dans le répertoire fournie en argument\n",
    "\n",
    "Une fonction permettant de récupérer le lien encodé dans un Qr Code  \n",
    "- Le répertoire complet contenant le nom de l'image  \n",
    "- Retourne une chaine de charactère contenant les informations encodées dans le code QR"
   ]
  },
  {
   "cell_type": "markdown",
   "metadata": {},
   "source": [
    "## IV - Mise en place de l'environnement et moyens de communication lors du projet"
   ]
  },
  {
   "cell_type": "markdown",
   "metadata": {},
   "source": [
    "- Installation de Python, Git un utilitaire en ligne de commande pour réaliser des mise à jour de son code sur GitHub, et de Visual Studio Code logiciel open source avec les extensions dont on a besoin\n",
    "\n",
    "- Utilisation du dépôt en ligne open source et gratuit GitHub: https://github.com/Archange-py/QR-Code.git, mais difficulté à connecter tout le monde dessus: on peut mettre à jour le code depuis son poste individuellement mais cela ne le met pas à jour sur tous les utilisateurs du dépôt\n",
    "\n",
    "- Abandon de l'idée de GitHub et utilisation d'un simple Framapad pour faire le travail de groupe\n",
    "\n",
    "- Chacun s'est vu finalement attribuer un domaine de travail et de recherche que tout le monde devra réunir à la fin pour obtenir le projet complet"
   ]
  }
 ],
 "metadata": {
  "language_info": {
   "name": "python"
  }
 },
 "nbformat": 4,
 "nbformat_minor": 2
}
