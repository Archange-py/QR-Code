{
 "cells": [
  {
   "cell_type": "markdown",
   "metadata": {},
   "source": [
    "# QR-Code 21x21\n",
    "***"
   ]
  },
  {
   "cell_type": "code",
   "execution_count": 1,
   "metadata": {},
   "outputs": [],
   "source": [
    "from qr_code import *\n",
    "\n",
    "import matplotlib.pyplot as plt"
   ]
  },
  {
   "cell_type": "markdown",
   "metadata": {},
   "source": [
    "## Classe"
   ]
  },
  {
   "cell_type": "markdown",
   "metadata": {},
   "source": [
    "### `Qr_Code`"
   ]
  },
  {
   "cell_type": "code",
   "execution_count": 2,
   "metadata": {},
   "outputs": [
    {
     "data": {
      "text/plain": [
       "[[2 2 2 2 2 2 2 0 0 0 0 0 0 0 2 2 2 2 2 2 2]\n",
       " [2 0 0 0 0 0 2 0 0 0 0 0 0 0 2 0 0 0 0 0 2]\n",
       " [2 0 2 2 2 0 2 0 0 0 0 0 0 0 2 0 2 2 2 0 2]\n",
       " [2 0 2 2 2 0 2 0 0 0 0 0 0 0 2 0 2 2 2 0 2]\n",
       " [2 0 2 2 2 0 2 0 0 0 0 0 0 0 2 0 2 2 2 0 2]\n",
       " [2 0 0 0 0 0 2 0 0 0 0 0 0 0 2 0 0 0 0 0 2]\n",
       " [2 2 2 2 2 2 2 0 1 0 1 0 1 0 2 2 2 2 2 2 2]\n",
       " [0 0 0 0 0 0 0 0 0 0 0 0 0 0 0 0 0 0 0 0 0]\n",
       " [0 1 1 0 0 0 1 0 0 0 0 0 0 0 0 0 0 0 0 0 0]\n",
       " [0 0 0 0 0 0 0 0 0 0 0 0 0 0 0 0 0 0 0 0 0]\n",
       " [0 0 0 0 0 0 1 0 0 0 0 0 0 0 0 0 0 0 0 0 0]\n",
       " [0 0 0 0 0 0 0 0 0 0 0 0 0 0 0 0 0 0 0 0 0]\n",
       " [0 0 0 0 0 0 1 0 0 0 0 0 0 0 0 0 0 0 0 0 0]\n",
       " [0 0 0 0 0 0 0 0 0 0 0 0 0 0 0 0 0 0 0 0 0]\n",
       " [2 2 2 2 2 2 2 0 0 0 0 0 0 0 0 0 0 0 0 0 0]\n",
       " [2 0 0 0 0 0 2 0 0 0 0 0 0 0 0 0 0 0 0 0 0]\n",
       " [2 0 2 2 2 0 2 0 0 0 0 0 0 0 0 0 0 0 0 0 0]\n",
       " [2 0 2 2 2 0 2 0 0 0 0 0 0 0 0 0 0 0 0 0 0]\n",
       " [2 0 2 2 2 0 2 0 1 0 0 0 0 0 0 0 0 0 0 0 0]\n",
       " [2 0 0 0 0 0 2 0 1 0 0 0 0 0 0 0 0 0 0 0 0]\n",
       " [2 2 2 2 2 2 2 0 0 0 0 0 0 0 0 0 0 0 0 0 0]]"
      ]
     },
     "execution_count": 2,
     "metadata": {},
     "output_type": "execute_result"
    }
   ],
   "source": [
    "array_qr = QrCode()\n",
    "\n",
    "array_qr"
   ]
  },
  {
   "cell_type": "code",
   "execution_count": 3,
   "metadata": {},
   "outputs": [
    {
     "ename": "ModuleNotFoundError",
     "evalue": "No module named 'pillow'",
     "output_type": "error",
     "traceback": [
      "\u001b[1;31m---------------------------------------------------------------------------\u001b[0m",
      "\u001b[1;31mModuleNotFoundError\u001b[0m                       Traceback (most recent call last)",
      "Cell \u001b[1;32mIn[3], line 1\u001b[0m\n\u001b[1;32m----> 1\u001b[0m \u001b[38;5;28;01mfrom\u001b[39;00m \u001b[38;5;21;01mpillow\u001b[39;00m \u001b[38;5;28;01mimport\u001b[39;00m \u001b[38;5;241m*\u001b[39m\n\u001b[0;32m      3\u001b[0m plt\u001b[38;5;241m.\u001b[39mimshow(Image(array_qr\u001b[38;5;241m.\u001b[39marray))\n",
      "\u001b[1;31mModuleNotFoundError\u001b[0m: No module named 'pillow'"
     ]
    }
   ],
   "source": [
    "from pillow import *\n",
    "\n",
    "plt.imshow(Image(array_qr.array))"
   ]
  }
 ],
 "metadata": {
  "kernelspec": {
   "display_name": "Python 3",
   "language": "python",
   "name": "python3"
  },
  "language_info": {
   "codemirror_mode": {
    "name": "ipython",
    "version": 3
   },
   "file_extension": ".py",
   "mimetype": "text/x-python",
   "name": "python",
   "nbconvert_exporter": "python",
   "pygments_lexer": "ipython3",
   "version": "3.12.4"
  }
 },
 "nbformat": 4,
 "nbformat_minor": 2
}
